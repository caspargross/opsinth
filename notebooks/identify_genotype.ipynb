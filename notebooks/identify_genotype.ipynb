{
 "cells": [
  {
   "cell_type": "markdown",
   "metadata": {},
   "source": [
    "This notebook to try out a path how to identify the genotype of a patient based on the sequence of the OPN1 gene.\n"
   ]
  },
  {
   "cell_type": "code",
   "execution_count": 1,
   "metadata": {},
   "outputs": [],
   "source": [
    "import sys\n",
    "from pathlib import Path\n",
    "\n",
    "# Add the project root directory to Python path\n",
    "project_root = str(Path.cwd().parent)  # Assuming notebook is in notebooks/ directory\n",
    "if project_root not in sys.path:\n",
    "    sys.path.append(project_root)\n",
    "\n",
    "# Now we can import from opsinth\n",
    "from opsinth.analysis_genes import *\n",
    "from opsinth.utils import *"
   ]
  },
  {
   "cell_type": "code",
   "execution_count": 2,
   "metadata": {},
   "outputs": [],
   "source": [
    "ref = \"../tests/out/crispr/opsinth.denovo.polished.fasta\"\n",
    "seq_opn1mw = \"../data/GRCh38.OPN1MW.cDNA.fa\"\n",
    "seq_opn1lw = \"../data/GRCh38.OPN1LW.cDNA.fa\""
   ]
  },
  {
   "cell_type": "markdown",
   "metadata": {},
   "source": [
    "1) Find the number of OPSIN copies. Align whole cDNA (spliced)"
   ]
  },
  {
   "cell_type": "code",
   "execution_count": 3,
   "metadata": {},
   "outputs": [
    {
     "name": "stdout",
     "output_type": "stream",
     "text": [
      "Alignment Results:\n",
      "-----------------\n",
      "Reference: ref_denovo_polished\n",
      "Query: OPN1MW-201\n",
      "Reference Position: 76425-89673\n",
      "Query Position: 0-1095\n",
      "Mapping Quality: 60\n",
      "Sequence Identity: 98.90%\n",
      "CIGAR: 112=4939N1=1I15=1I97=1I172=1I8=1968N169=1460N58=1X1=1I66=2I22=1X14=1533N146=1I27=1I1=1X63=2262N111=\n",
      "Strand: +\n",
      "-----------------\n",
      "Reference: ref_denovo_polished\n",
      "Query: OPN1MW-201\n",
      "Reference Position: 113250-126476\n",
      "Query Position: 0-1095\n",
      "Mapping Quality: 0\n",
      "Sequence Identity: 97.99%\n",
      "CIGAR: 22=1I7=2X80=4929N17=1I1=1X70=1X24=1I103=1X1=1I1X18=1X3=2I32=2I16=1972N14=1I154=1454N31=1I26=1I2=1X1=2I101=1533N104=1X135=2256N111=\n",
      "Strand: +\n",
      "-----------------\n",
      "Reference: ref_denovo_polished\n",
      "Query: OPN1MW-201\n",
      "Reference Position: 39550-52789\n",
      "Query Position: 0-1095\n",
      "Mapping Quality: 0\n",
      "Sequence Identity: 97.72%\n",
      "CIGAR: 94=1X17=4935N13=1I226=1X1=2I44=1I8=1972N111=1X10=1X46=1452N38=1X25=1I52=1D49=1526N75=1X2=1X1=1X2=1X1=1X4=1X13=1X3=1X28=1D6=1X3=1X33=1X27=1I30=2264N3=1I107=\n",
      "Strand: +\n",
      "-----------------\n",
      "Reference: ref_denovo_polished\n",
      "Query: OPN1MW-201\n",
      "Reference Position: 744-15235\n",
      "Query Position: 0-1095\n",
      "Mapping Quality: 0\n",
      "Sequence Identity: 96.89%\n",
      "CIGAR: 20=1I23=1I67=6210N13=1I67=1X49=1I55=1X30=1X15=1X62=1961N111=1X16=1X40=1447N38=1X21=1I3=1X45=1X7=3X41=1I3=1524N53=2X20=1X2=1X1=1X2=1X1=1X4=1X13=1X3=1X32=1X3=1I1=1X33=1X27=1I30=2263N3=1I107=\n",
      "Strand: +\n",
      "-----------------\n"
     ]
    }
   ],
   "source": [
    "alignments = align_sequences(ref, seq_opn1mw, preset=\"splice:hq\")\n",
    "nice_alignments = format_alignment_results(alignments)\n",
    "print(nice_alignments)\n"
   ]
  },
  {
   "cell_type": "markdown",
   "metadata": {},
   "source": [
    "2) Sort alignments by start,\n",
    "(2 Optional) Retain only alignments with query length > 500kB"
   ]
  },
  {
   "cell_type": "code",
   "execution_count": 4,
   "metadata": {},
   "outputs": [
    {
     "name": "stdout",
     "output_type": "stream",
     "text": [
      "Kept 4 alignments of 4 after filtering\n",
      "\n",
      "Sorted alignments with IDs:\n",
      "ID: opn1_locus_01, Position: 744-15235\n",
      "ID: opn1_locus_02, Position: 39550-52789\n",
      "ID: opn1_locus_03, Position: 76425-89673\n",
      "ID: opn1_locus_04, Position: 113250-126476\n"
     ]
    }
   ],
   "source": [
    "alignments_filtered = [a for a in alignments if a['query_end'] - a['query_start'] > 500]\n",
    "print(\"Kept\", len(alignments_filtered), \"alignments of\", len(alignments), \"after filtering\")\n",
    "\n",
    "# Sort alignments by reference start position\n",
    "alignments_filtered.sort(key=lambda x: x['ref_start'])\n",
    "\n",
    "# Assign sequential IDs\n",
    "for i, alignment in enumerate(alignments_filtered):\n",
    "    alignment['id'] = f\"opn1_locus_{i + 1:02d}\"\n",
    "\n",
    "print(\"\\nSorted alignments with IDs:\")\n",
    "for aln in alignments_filtered:\n",
    "    print(f\"ID: {aln['id']}, Position: {aln['ref_start']}-{aln['ref_end']}\")\n",
    "\n"
   ]
  },
  {
   "cell_type": "markdown",
   "metadata": {},
   "source": [
    "3) Identify the Amino Acids responsible for decision of MW or LW:\n",
    "    \n",
    "    \n",
    "|      |    277 AA |  309 AA | 285 AA \n",
    "|------|-------|------|------|\n",
    "| OPN1MW | F | F |  A |\n",
    "| OPN1LW | Y | Y |  T |\n",
    "\n"
   ]
  },
  {
   "cell_type": "code",
   "execution_count": 5,
   "metadata": {},
   "outputs": [
    {
     "name": "stdout",
     "output_type": "stream",
     "text": [
      "Alignment Results:\n",
      "-----------------\n",
      "Reference: OPN1MW-201\n",
      "Query: OPN1LW-201\n",
      "Reference Position: 0-1095\n",
      "Query Position: 0-1095\n",
      "Mapping Quality: 60\n",
      "Sequence Identity: 98.17%\n",
      "CIGAR: 193=1X105=1X30=1X15=1X341=1X7=3X6=1X113=1X2=1X1=1X2=1X1=1X4=1X13=1X3=1X34=1X3=1X33=1X169=\n",
      "Strand: +\n",
      "-----------------\n"
     ]
    },
    {
     "data": {
      "text/plain": [
       "[{'reference_name': 'OPN1MW-201',\n",
       "  'query_name': 'OPN1LW-201',\n",
       "  'ref_start': 0,\n",
       "  'ref_end': 1095,\n",
       "  'query_start': 0,\n",
       "  'query_end': 1095,\n",
       "  'mapping_quality': 60,\n",
       "  'cigar': '193=1X105=1X30=1X15=1X341=1X7=3X6=1X113=1X2=1X1=1X2=1X1=1X4=1X13=1X3=1X34=1X3=1X33=1X169=',\n",
       "  'strand': '+',\n",
       "  'sequence_identity': 0.9817351598173516}]"
      ]
     },
     "execution_count": 5,
     "metadata": {},
     "output_type": "execute_result"
    }
   ],
   "source": [
    "a_opn1 = align_sequences(\"../data/GRCh38.OPN1MW.cDNA.fa\", \"../data/GRCh38.OPN1LW.cDNA.fa\", preset=\"asm5\")\n",
    "nice_a_opn1 = format_alignment_results(a_opn1)\n",
    "print(nice_a_opn1)\n",
    "\n",
    "a_opn1"
   ]
  },
  {
   "cell_type": "markdown",
   "metadata": {},
   "source": [
    "what is wrong? Lets check the alignment in blast format"
   ]
  },
  {
   "cell_type": "code",
   "execution_count": 6,
   "metadata": {},
   "outputs": [
    {
     "name": "stdout",
     "output_type": "stream",
     "text": [
      "ref         0: ATGGCCCAGCAGTGGAGCCTCCAAAGGCTCGCAGGCCGCCATCCGCAGGACAGCTATGAG :60\n",
      "               ||||||||||||||||||||||||||||||||||||||||||||||||||||||||||||\n",
      "query       0: ATGGCCCAGCAGTGGAGCCTCCAAAGGCTCGCAGGCCGCCATCCGCAGGACAGCTATGAG :60\n",
      "\n",
      "ref        60: GACAGCACCCAGTCCAGCATCTTCACCTACACCAACAGCAACTCCACCAGAGGCCCCTTC :120\n",
      "               ||||||||||||||||||||||||||||||||||||||||||||||||||||||||||||\n",
      "query      60: GACAGCACCCAGTCCAGCATCTTCACCTACACCAACAGCAACTCCACCAGAGGCCCCTTC :120\n",
      "\n",
      "ref       120: GAAGGCCCGAATTACCACATCGCTCCCAGATGGGTGTACCACCTCACCAGTGTCTGGATG :180\n",
      "               ||||||||||||||||||||||||||||||||||||||||||||||||||||||||||||\n",
      "query     120: GAAGGCCCGAATTACCACATCGCTCCCAGATGGGTGTACCACCTCACCAGTGTCTGGATG :180\n",
      "\n",
      "ref       180: ATCTTTGTGGTCATTGCATCCGTCTTCACAAATGGGCTTGTGCTGGCGGCCACCATGAAG :240\n",
      "               ||||||||||||| ||||||||||||||||||||||||||||||||||||||||||||||\n",
      "query     180: ATCTTTGTGGTCACTGCATCCGTCTTCACAAATGGGCTTGTGCTGGCGGCCACCATGAAG :240\n",
      "\n",
      "ref       240: TTCAAGAAGCTGCGCCACCCGCTGAACTGGATCCTGGTGAACCTGGCGGTCGCTGACCTG :300\n",
      "               ||||||||||||||||||||||||||||||||||||||||||||||||||||||||||| \n",
      "query     240: TTCAAGAAGCTGCGCCACCCGCTGAACTGGATCCTGGTGAACCTGGCGGTCGCTGACCTA :300\n",
      "\n",
      "ref       300: GCAGAGACCGTCATCGCCAGCACTATCAGCGTTGTGAACCAGGTCTATGGCTACTTCGTG :360\n",
      "               |||||||||||||||||||||||||||||| ||||||||||||||| |||||||||||||\n",
      "query     300: GCAGAGACCGTCATCGCCAGCACTATCAGCATTGTGAACCAGGTCTCTGGCTACTTCGTG :360\n",
      "\n",
      "ref       360: CTGGGCCACCCTATGTGTGTCCTGGAGGGCTACACCGTCTCCCTGTGTGGGATCACAGGT :420\n",
      "               ||||||||||||||||||||||||||||||||||||||||||||||||||||||||||||\n",
      "query     360: CTGGGCCACCCTATGTGTGTCCTGGAGGGCTACACCGTCTCCCTGTGTGGGATCACAGGT :420\n",
      "\n",
      "ref       420: CTCTGGTCTCTGGCCATCATTTCCTGGGAGAGATGGATGGTGGTCTGCAAGCCCTTTGGC :480\n",
      "               ||||||||||||||||||||||||||||||||||||||||||||||||||||||||||||\n",
      "query     420: CTCTGGTCTCTGGCCATCATTTCCTGGGAGAGATGGATGGTGGTCTGCAAGCCCTTTGGC :480\n",
      "\n",
      "ref       480: AATGTGAGATTTGATGCCAAGCTGGCCATCGTGGGCATTGCCTTCTCCTGGATCTGGGCT :540\n",
      "               ||||||||||||||||||||||||||||||||||||||||||||||||||||||||||||\n",
      "query     480: AATGTGAGATTTGATGCCAAGCTGGCCATCGTGGGCATTGCCTTCTCCTGGATCTGGGCT :540\n",
      "\n",
      "ref       540: GCTGTGTGGACAGCCCCGCCCATCTTTGGTTGGAGCAGGTACTGGCCCCACGGCCTGAAG :600\n",
      "               ||||||||||||||||||||||||||||||||||||||||||||||||||||||||||||\n",
      "query     540: GCTGTGTGGACAGCCCCGCCCATCTTTGGTTGGAGCAGGTACTGGCCCCACGGCCTGAAG :600\n",
      "\n",
      "ref       600: ACTTCATGCGGCCCAGACGTGTTCAGCGGCAGCTCGTACCCCGGGGTGCAGTCTTACATG :660\n",
      "               ||||||||||||||||||||||||||||||||||||||||||||||||||||||||||||\n",
      "query     600: ACTTCATGCGGCCCAGACGTGTTCAGCGGCAGCTCGTACCCCGGGGTGCAGTCTTACATG :660\n",
      "\n",
      "ref       660: ATTGTCCTCATGGTCACCTGCTGCATCACCCCACTCAGCATCATCGTGCTCTGCTACCTC :720\n",
      "               |||||||||||||||||||||||||||| |||||||   |||||| ||||||||||||||\n",
      "query     660: ATTGTCCTCATGGTCACCTGCTGCATCATCCCACTCGCTATCATCATGCTCTGCTACCTC :720\n",
      "\n",
      "ref       720: CAAGTGTGGCTGGCCATCCGAGCGGTGGCAAAGCAGCAGAAAGAGTCTGAATCCACCCAG :780\n",
      "               ||||||||||||||||||||||||||||||||||||||||||||||||||||||||||||\n",
      "query     720: CAAGTGTGGCTGGCCATCCGAGCGGTGGCAAAGCAGCAGAAAGAGTCTGAATCCACCCAG :780\n",
      "\n",
      "ref       780: AAGGCAGAGAAGGAAGTGACGCGCATGGTGGTGGTGATGGTCCTGGCATTCTGCTTCTGC :840\n",
      "               ||||||||||||||||||||||||||||||||||||||| || | || | |||| |||||\n",
      "query     780: AAGGCAGAGAAGGAAGTGACGCGCATGGTGGTGGTGATGATCTTTGCGTACTGCGTCTGC :840\n",
      "\n",
      "ref       840: TGGGGACCATACGCCTTCTTCGCATGCTTTGCTGCTGCCAACCCTGGCTACCCCTTCCAC :900\n",
      "               |||||||| ||| |||||||||||||||||||||||||||||||||| ||| ||||||||\n",
      "query     840: TGGGGACCCTACACCTTCTTCGCATGCTTTGCTGCTGCCAACCCTGGTTACGCCTTCCAC :900\n",
      "\n",
      "ref       900: CCTTTGATGGCTGCCCTGCCGGCCTTCTTTGCCAAAAGTGCCACTATCTACAACCCCGTT :960\n",
      "               ||||||||||||||||||||||||| ||||||||||||||||||||||||||||||||||\n",
      "query     900: CCTTTGATGGCTGCCCTGCCGGCCTACTTTGCCAAAAGTGCCACTATCTACAACCCCGTT :960\n",
      "\n",
      "ref       960: ATCTATGTCTTTATGAACCGGCAGTTTCGAAACTGCATCTTGCAGCTTTTCGGGAAGAAG :1020\n",
      "               ||||||||||||||||||||||||||||||||||||||||||||||||||||||||||||\n",
      "query     960: ATCTATGTCTTTATGAACCGGCAGTTTCGAAACTGCATCTTGCAGCTTTTCGGGAAGAAG :1020\n",
      "\n",
      "ref      1020: GTTGACGATGGCTCTGAACTCTCCAGCGCCTCCAAAACGGAGGTCTCATCTGTGTCCTCG :1080\n",
      "               ||||||||||||||||||||||||||||||||||||||||||||||||||||||||||||\n",
      "query    1020: GTTGACGATGGCTCTGAACTCTCCAGCGCCTCCAAAACGGAGGTCTCATCTGTGTCCTCG :1080\n",
      "\n",
      "ref      1080: GTATCGCCTGCATGA :1095\n",
      "               |||||||||||||||\n",
      "query    1080: GTATCGCCTGCATGA :1095\n",
      "\n"
     ]
    }
   ],
   "source": [
    "opn1mw_seq = read_fasta_seq(\"../data/GRCh38.OPN1MW.cDNA.fa\")\n",
    "opn1lw_seq = read_fasta_seq(\"../data/GRCh38.OPN1LW.cDNA.fa\")\n",
    "\n",
    "print(get_alignment_sequence(a_opn1[0], opn1mw_seq, opn1lw_seq))\n"
   ]
  },
  {
   "cell_type": "markdown",
   "metadata": {},
   "source": [
    "The three amino acid positions are:\n",
    "- Position 277: Phenylalanine (F) in MW → Tyrosine (Y) in LW\n",
    "- Position 285: Alanine (A) in MW → Threonine (T) in LW\n",
    "- Position 309: Phenylalanine (F) in MW → Tyrosine (Y) in LW\n",
    "To convert amino acid positions to cDNA coordinates:\n",
    "1) Multiply amino acid position by 3 (since each amino acid is encoded by 3 nucleotides)\n",
    "2) Subtract 3 to get the start position (since amino acid numbering starts at 1 but cDNA at 0)\n",
    "Therefore:\n",
    "- Position 277: cDNA 828-830 (TTC→TAC)\n",
    "- Position 285: cDNA 852-854 (GCC→ACC)\n",
    "- Position 309: cDNA 924-926 (TTC→TAC)"
   ]
  },
  {
   "cell_type": "code",
   "execution_count": 7,
   "metadata": {},
   "outputs": [
    {
     "name": "stdout",
     "output_type": "stream",
     "text": [
      "Position 828-830:\n",
      "MW: TTC\n",
      "LW: TAC\n",
      "Position 852-854:\n",
      "MW: GCC\n",
      "LW: ACC\n",
      "Position 924-926:\n",
      "MW: TTC\n",
      "LW: TAC\n"
     ]
    }
   ],
   "source": [
    "def read_fasta(file_path):\n",
    "    with open(file_path) as f:\n",
    "        header = f.readline().strip()\n",
    "        sequence = ''.join(line.strip() for line in f)\n",
    "    return header, sequence\n",
    "\n",
    "mw_header, mw_seq = read_fasta(\"../data/GRCh38.OPN1MW.cDNA.fa\")\n",
    "lw_header, lw_seq = read_fasta(\"../data/GRCh38.OPN1LW.cDNA.fa\")\n",
    "\n",
    "variants = [(828, 830), (852, 854), (924, 926)]\n",
    "for start, end in variants:\n",
    "    print(f\"Position {start}-{end}:\")\n",
    "    print(f\"MW: {mw_seq[start:end+1]}\")\n",
    "    print(f\"LW: {lw_seq[start:end+1]}\")"
   ]
  },
  {
   "cell_type": "markdown",
   "metadata": {},
   "source": []
  },
  {
   "cell_type": "markdown",
   "metadata": {},
   "source": [
    "Therefore the three positions are:\n",
    "- cDNA 829 T->A \n",
    "- cDNA 852 G->A\n",
    "- cDNA 925 T->A\n",
    "\n",
    "Lets identify them in our alignment"
   ]
  },
  {
   "cell_type": "code",
   "execution_count": 8,
   "metadata": {},
   "outputs": [
    {
     "name": "stdout",
     "output_type": "stream",
     "text": [
      "Analyzing color-determining variants:\n",
      "\n",
      "Analyzing opn1_locus_01 (744-15235):\n",
      "Pos cDNA | Pos Ref | AA Change | Expected(Ref/Alt) | Observed | Type\n",
      "----------------------------------------------------------------------\n",
      "cDNA 829 |   12709 | F>Y       | T/A               | A        | LW\n",
      "cDNA 852 |   12732 | A>T       | G/A               | A        | LW\n",
      "cDNA 925 |   12804 | F>Y       | T/A               | A        | LW\n",
      "\n",
      "Classification: OPN1LW (Red)\n",
      "\n",
      "Analyzing opn1_locus_02 (39550-52789):\n",
      "Pos cDNA | Pos Ref | AA Change | Expected(Ref/Alt) | Observed | Type\n",
      "----------------------------------------------------------------------\n",
      "cDNA 829 |   50260 | F>Y       | T/A               | A        | LW\n",
      "cDNA 852 |   50283 | A>T       | G/A               | A        | LW\n",
      "cDNA 925 |   50357 | F>Y       | T/A               | A        | LW\n",
      "\n",
      "Classification: OPN1LW (Red)\n",
      "\n",
      "Analyzing opn1_locus_03 (76425-89673):\n",
      "Pos cDNA | Pos Ref | AA Change | Expected(Ref/Alt) | Observed | Type\n",
      "----------------------------------------------------------------------\n",
      "cDNA 829 |   87147 | F>Y       | T/A               | T        | MW\n",
      "cDNA 852 |   87170 | A>T       | G/A               | G        | MW\n",
      "cDNA 925 |   87241 | F>Y       | T/A               | T        | MW\n",
      "\n",
      "Classification: OPN1MW (Green)\n",
      "\n",
      "Analyzing opn1_locus_04 (113250-126476):\n",
      "Pos cDNA | Pos Ref | AA Change | Expected(Ref/Alt) | Observed | Type\n",
      "----------------------------------------------------------------------\n",
      "cDNA 829 |  123954 | F>Y       | T/A               | T        | MW\n",
      "cDNA 852 |  123977 | A>T       | G/A               | G        | MW\n",
      "cDNA 925 |  124050 | F>Y       | T/A               | T        | MW\n",
      "\n",
      "Classification: OPN1MW (Green)\n"
     ]
    }
   ],
   "source": [
    "ref_seq = read_fasta_seq(\"../tests/out/crispr/opsinth.denovo.polished.fasta\")\n",
    "\n",
    "#Check color variants\n",
    "print(\"Analyzing color-determining variants:\")\n",
    "for aln in alignments_filtered:\n",
    "    print(f\"\\nAnalyzing {aln['id']} ({aln['ref_start']}-{aln['ref_end']}):\")\n",
    "    variants = genotype_known_variants(aln, ref_seq, OPSIN_EXON5_COLOR_VARIANTS)\n",
    "    \n",
    "    print(\"Pos cDNA | Pos Ref | AA Change | Expected(Ref/Alt) | Observed | Type\")\n",
    "    print(\"-\" * 70)\n",
    "    \n",
    "    ref_count = 0\n",
    "    alt_count = 0\n",
    "    \n",
    "    for var in variants:\n",
    "        result = var['ref_type'] if var['is_ref'] else (var['alt_type'] if var['is_alt'] else \"Unknown\")\n",
    "        if var['is_ref']: ref_count += 1\n",
    "        if var['is_alt']: alt_count += 1\n",
    "        \n",
    "        print(f\"cDNA {var['cdna_pos']} |  {var['ref_pos']: >6} | {var['aa_change']}       | \"\n",
    "              f\"{var['expected_ref']}/{var['expected_alt']}               | \"\n",
    "              f\"{var['observed']}        | {result}\")\n",
    "    \n",
    "    # Determine type\n",
    "    if ref_count >= 2:\n",
    "        opsin_type = \"OPN1MW (Green)\"\n",
    "    elif alt_count >= 2:\n",
    "        opsin_type = \"OPN1LW (Red)\"\n",
    "    else:\n",
    "        opsin_type = \"Undetermined\"\n",
    "        \n",
    "    print(f\"\\nClassification: {opsin_type}\")"
   ]
  },
  {
   "attachments": {
    "image.png": {
     "image/png": "[encoded data removed]"
    }
   },
   "cell_type": "markdown",
   "metadata": {},
   "source": [
    "![image.png](attachment:image.png)"
   ]
  },
  {
   "cell_type": "code",
   "execution_count": 9,
   "metadata": {},
   "outputs": [
    {
     "name": "stdout",
     "output_type": "stream",
     "text": [
      "Analyzing splicing variants:\n",
      "\n",
      "Analyzing opn1_locus_01 (744-15235):\n",
      "Pos cDNA | Pos Ref | AA Change | Expected(Ref/Alt) | Observed | Type\n",
      "----------------------------------------------------------------------\n",
      "cDNA 452 |    9363 | R>R       | G/A               | A        |  \n",
      "cDNA 456 |    9367 | L>M       | C/A               | A        | M\n",
      "cDNA 464 |    9375 | V>V       | G/C               | C        |  \n",
      "cDNA 510 |    9421 | I>V       | A/G               | G        | V\n",
      "cDNA 512 |    9423 | I>V       | T/G               | G        | V\n",
      "cDNA 520 |    9431 | A>V       | C/T               | T        | V\n",
      "cDNA 531 |    9442 | I>V       | A/G               | A        | I\n",
      "cDNA 537 |    9448 | S>A       | T/G               | T        | S\n",
      "\n",
      "Analyzing opn1_locus_02 (39550-52789):\n",
      "Pos cDNA | Pos Ref | AA Change | Expected(Ref/Alt) | Observed | Type\n",
      "----------------------------------------------------------------------\n",
      "cDNA 452 |   46905 | R>R       | G/A               | A        |  \n",
      "cDNA 456 |   46909 | L>M       | C/A               | A        | M\n",
      "cDNA 464 |   46917 | V>V       | G/C               | C        |  \n",
      "cDNA 510 |   46963 | I>V       | A/G               | G        | V\n",
      "cDNA 512 |   46965 | I>V       | T/G               | G        | V\n",
      "cDNA 520 |   46973 | A>V       | C/T               | T        | V\n",
      "cDNA 531 |   46984 | I>V       | A/G               | G        | V\n",
      "cDNA 537 |   46990 | S>A       | T/G               | G        | A\n",
      "\n",
      "Analyzing opn1_locus_03 (76425-89673):\n",
      "Pos cDNA | Pos Ref | AA Change | Expected(Ref/Alt) | Observed | Type\n",
      "----------------------------------------------------------------------\n",
      "cDNA 452 |   83780 | R>R       | G/A               | A        |  \n",
      "cDNA 456 |   83784 | L>M       | C/A               | A        | M\n",
      "cDNA 464 |   83792 | V>V       | G/C               | C        |  \n",
      "cDNA 510 |   83838 | I>V       | A/G               | G        | V\n",
      "cDNA 512 |   83840 | I>V       | T/G               | G        | V\n",
      "cDNA 520 |   83848 | A>V       | C/T               | C        | A\n",
      "cDNA 531 |   83859 | I>V       | A/G               | A        | I\n",
      "cDNA 537 |   83865 | S>A       | T/G               | G        | A\n",
      "\n",
      "Analyzing opn1_locus_04 (113250-126476):\n",
      "Pos cDNA | Pos Ref | AA Change | Expected(Ref/Alt) | Observed | Type\n",
      "----------------------------------------------------------------------\n",
      "cDNA 452 |  120594 | R>R       | G/A               | A        |  \n",
      "cDNA 456 |  120598 | L>M       | C/A               | A        | M\n",
      "cDNA 464 |  120606 | V>V       | G/C               | C        |  \n",
      "cDNA 510 |  120652 | I>V       | A/G               | G        | V\n",
      "cDNA 512 |  120654 | I>V       | T/G               | G        | V\n",
      "cDNA 520 |  120662 | A>V       | C/T               | C        | A\n",
      "cDNA 531 |  120673 | I>V       | A/G               | A        | I\n",
      "cDNA 537 |  120679 | S>A       | T/G               | G        | A\n"
     ]
    }
   ],
   "source": [
    "print(\"Analyzing splicing variants:\")\n",
    "for aln in alignments_filtered:\n",
    "    print(f\"\\nAnalyzing {aln['id']} ({aln['ref_start']}-{aln['ref_end']}):\")\n",
    "    variants = genotype_known_variants(aln, ref_seq, OPSIN_EXON3_SPLICING_VARIANTS)\n",
    "    \n",
    "    print(\"Pos cDNA | Pos Ref | AA Change | Expected(Ref/Alt) | Observed | Type\")\n",
    "    print(\"-\" * 70)\n",
    "    \n",
    "    ref_count = 0\n",
    "    alt_count = 0\n",
    "    \n",
    "    for var in variants:\n",
    "        result = var['ref_type'] if var['is_ref'] else (var['alt_type'] if var['is_alt'] else \"Unknown\")\n",
    "        if var['is_ref']: ref_count += 1\n",
    "        if var['is_alt']: alt_count += 1\n",
    "        \n",
    "        print(f\"cDNA {var['cdna_pos']} |  {var['ref_pos']: >6} | {var['aa_change']}       | \"\n",
    "              f\"{var['expected_ref']}/{var['expected_alt']}               | \"\n",
    "              f\"{var['observed']}        | {result}\")\n",
    "    # Determine type\n",
    "    # if ref_count >= 2:\n",
    "    #     opsin_type = \"OPN1MW (Green)\"\n",
    "    # elif alt_count >= 2:\n",
    "    #     opsin_type = \"OPN1LW (Red)\"\n",
    "    # else:\n",
    "    #     opsin_type = \"Undetermined\"\n",
    "        \n",
    "    # print(f\"\\nClassification: {opsin_type}\")"
   ]
  }
 ],
 "metadata": {
  "kernelspec": {
   "display_name": ".venv",
   "language": "python",
   "name": "python3"
  },
  "language_info": {
   "codemirror_mode": {
    "name": "ipython",
    "version": 3
   },
   "file_extension": ".py",
   "mimetype": "text/x-python",
   "name": "python",
   "nbconvert_exporter": "python",
   "pygments_lexer": "ipython3",
   "version": "3.12.7"
  }
 },
 "nbformat": 4,
 "nbformat_minor": 2
}
