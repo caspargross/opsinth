{
 "cells": [
  {
   "attachments": {},
   "cell_type": "markdown",
   "metadata": {},
   "source": [
    "### Crispr Amplicon\n",
    "\n",
    "Read alignment\n",
    "Consensus \n",
    "Visualisation\n",
    "Stats"
   ]
  },
  {
   "cell_type": "code",
   "execution_count": 1,
   "metadata": {},
   "outputs": [],
   "source": [
    "import sys\n",
    "import pysam\n",
    "import edlib"
   ]
  },
  {
   "cell_type": "code",
   "execution_count": 2,
   "metadata": {},
   "outputs": [],
   "source": [
    "bam = \"/mnt/storage1/projects/research/22070I_1057_Cas9-ONT/Sample_22070LRa005/22070LRa005.bam\"\n",
    "bed = \"/mnt/storage1/projects/research/22070I_1057_Cas9-ONT/opsin_region.bed\"\n",
    "ref = \"/mnt/storage2/megSAP/data/genomes/GRCh38.fa\""
   ]
  },
  {
   "attachments": {},
   "cell_type": "markdown",
   "metadata": {},
   "source": [
    "Read target bedfile"
   ]
  },
  {
   "cell_type": "code",
   "execution_count": 3,
   "metadata": {},
   "outputs": [
    {
     "data": {
      "text/plain": [
       "[['chrX', 154143540, 154295780]]"
      ]
     },
     "execution_count": 3,
     "metadata": {},
     "output_type": "execute_result"
    }
   ],
   "source": [
    "n_window = 100\n",
    "roi = []\n",
    "with open(bed)as f:\n",
    "    for line in f:\n",
    "        l = line.strip().split()\n",
    "        l[1] = max(0, int(l[1]) - n_window)\n",
    "        l[2] = int(l[2]) + n_window\n",
    "        roi.append(l)\n",
    "f.close()\n",
    "\n",
    "roi"
   ]
  },
  {
   "attachments": {},
   "cell_type": "markdown",
   "metadata": {},
   "source": [
    "Read reference genome"
   ]
  },
  {
   "cell_type": "code",
   "execution_count": 4,
   "metadata": {},
   "outputs": [
    {
     "name": "stdout",
     "output_type": "stream",
     "text": [
      "Ref Length: 152240\n"
     ]
    }
   ],
   "source": [
    "f = pysam.FastaFile(ref)\n",
    "seq_ref = f.fetch(reference = roi[0][0], start = roi[0][1], end = roi[0][2])\n",
    "print(\"Ref Length:\", len(seq_ref))"
   ]
  },
  {
   "attachments": {},
   "cell_type": "markdown",
   "metadata": {},
   "source": [
    "Read Bamfile"
   ]
  },
  {
   "cell_type": "code",
   "execution_count": 10,
   "metadata": {},
   "outputs": [
    {
     "name": "stdout",
     "output_type": "stream",
     "text": [
      "Found 288 mapped reads\n"
     ]
    }
   ],
   "source": [
    "b = pysam.AlignmentFile(bam, \"rb\")\n",
    "print(\"Found\", b.count(contig = roi[0][0], start = roi[0][1], end = roi[0][2]), \"mapped reads\")\n",
    "\n",
    "# Extract from documentation:\n",
    "# Note that region strings are 1-based, while start and end denote an interval in python coordinates. The region is specified by reference, start and end.\n",
    "# Todo: Maybe reduce coordinates by 1?\n",
    "reads = {}\n",
    "for read in b.fetch(contig = roi[0][0], start = roi[0][1], end = roi[0][2]):\n",
    "    #print(read.query_name)\n",
    "    reads[str(read.query_name)] = {\n",
    "        'pos'   : read.get_reference_positions(full_length=True),\n",
    "        'seq_query' : read.get_forward_sequence(),\n",
    "        'pairs' : read.get_aligned_pairs(),\n",
    "    }\n",
    "b.close()"
   ]
  },
  {
   "attachments": {},
   "cell_type": "markdown",
   "metadata": {},
   "source": [
    "Test edlib: Align single read to reference"
   ]
  },
  {
   "cell_type": "code",
   "execution_count": 12,
   "metadata": {},
   "outputs": [
    {
     "name": "stdout",
     "output_type": "stream",
     "text": [
      "None\n"
     ]
    }
   ],
   "source": [
    "\n",
    "testread =  next(iter(reads.values()))['seq_query']\n",
    "print(testread)"
   ]
  }
 ],
 "metadata": {
  "kernelspec": {
   "display_name": ".venv",
   "language": "python",
   "name": "python3"
  },
  "language_info": {
   "codemirror_mode": {
    "name": "ipython",
    "version": 3
   },
   "file_extension": ".py",
   "mimetype": "text/x-python",
   "name": "python",
   "nbconvert_exporter": "python",
   "pygments_lexer": "ipython3",
   "version": "3.8.10"
  },
  "orig_nbformat": 4
 },
 "nbformat": 4,
 "nbformat_minor": 2
}
