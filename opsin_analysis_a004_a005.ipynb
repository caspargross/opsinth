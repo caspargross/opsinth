{
 "cells": [
  {
   "attachments": {},
   "cell_type": "markdown",
   "metadata": {},
   "source": [
    "### Crispr Amplicon\n",
    "\n",
    "Read alignment\n",
    "Consensus \n",
    "Visualisation\n",
    "Stats"
   ]
  },
  {
   "cell_type": "code",
   "execution_count": 2,
   "metadata": {},
   "outputs": [],
   "source": [
    "import sys\n",
    "import pysam\n",
    "import edlib\n",
    "from collections import Counter"
   ]
  },
  {
   "cell_type": "code",
   "execution_count": 15,
   "metadata": {},
   "outputs": [],
   "source": [
    "bamfiles  = [\"/mnt/storage1/projects/research/22070I_1057_Cas9-ONT/Sample_22070LRa004/22070LRa004.bam\", \"/mnt/storage1/projects/research/22070I_1057_Cas9-ONT/Sample_22070LRa005/22070LRa005.bam\"]\n",
    "bed = \"/mnt/storage1/projects/research/22070I_1057_Cas9-ONT/opsin_region.bed\"\n",
    "ref = \"/mnt/storage2/megSAP/data/genomes/GRCh38.fa\"\n",
    "fasta_anchors = \"anchors.fasta\"\n",
    "outbam = \"aln_opsin_a004_a005.test.bam\"\n",
    "outbam_sorted = \"aln_opsin_a004_a005.sorted.bam\""
   ]
  },
  {
   "attachments": {},
   "cell_type": "markdown",
   "metadata": {},
   "source": [
    "Read target bedfile"
   ]
  },
  {
   "cell_type": "code",
   "execution_count": 4,
   "metadata": {},
   "outputs": [
    {
     "data": {
      "text/plain": [
       "[['chrX', 154143338, 154295780]]"
      ]
     },
     "execution_count": 4,
     "metadata": {},
     "output_type": "execute_result"
    }
   ],
   "source": [
    "n_window = 100\n",
    "roi = []\n",
    "with open(bed)as f:\n",
    "    for line in f:\n",
    "        l = line.strip().split()\n",
    "        l[1] = max(0, int(l[1]) - n_window)\n",
    "        l[2] = int(l[2]) + n_window\n",
    "        roi.append(l)\n",
    "f.close()\n",
    "\n",
    "roi"
   ]
  },
  {
   "attachments": {},
   "cell_type": "markdown",
   "metadata": {},
   "source": [
    "Read reference genome"
   ]
  },
  {
   "cell_type": "code",
   "execution_count": 5,
   "metadata": {},
   "outputs": [
    {
     "name": "stdout",
     "output_type": "stream",
     "text": [
      "Ref Length: 152442\n"
     ]
    }
   ],
   "source": [
    "f = pysam.FastaFile(ref)\n",
    "seq_ref = f.fetch(reference = roi[0][0], start = roi[0][1], end = roi[0][2])\n",
    "print(\"Ref Length:\", len(seq_ref))"
   ]
  },
  {
   "attachments": {},
   "cell_type": "markdown",
   "metadata": {},
   "source": [
    "Read anchors"
   ]
  },
  {
   "cell_type": "code",
   "execution_count": 6,
   "metadata": {},
   "outputs": [
    {
     "name": "stdout",
     "output_type": "stream",
     "text": [
      "anchor_BL-715 : GGCAAGGGGGAGGAGGGAAGCCAACAGCAGGATGT\n",
      "anchor_CHOP_267 : TGGGGGCTAGTGCTGGCACCACCG\n",
      "anchor_IDT_855 : TGTGCACATGCAAGTCACAAACATTCCAGAT\n",
      "anchor_CSPO_586 : GGGGCCTGTGGTTGGTGAAGCCCAAGGCA\n"
     ]
    }
   ],
   "source": [
    "f_anchors = pysam.FastxFile(fasta_anchors)\n",
    "for anchor in f_anchors:\n",
    "    print(anchor.name, \":\", anchor.sequence)\n",
    "f.close()\n"
   ]
  },
  {
   "attachments": {},
   "cell_type": "markdown",
   "metadata": {},
   "source": [
    "Read Bamfile"
   ]
  },
  {
   "cell_type": "code",
   "execution_count": 7,
   "metadata": {},
   "outputs": [
    {
     "name": "stdout",
     "output_type": "stream",
     "text": [
      "Found 183 read alignments\n",
      "Found 289 read alignments\n",
      "Stored 210 unique sequences\n"
     ]
    }
   ],
   "source": [
    "reads = {}\n",
    "\n",
    "for bam in bamfiles:\n",
    "\n",
    "    b = pysam.AlignmentFile(bam, \"rb\")\n",
    "    print(\"Found\", b.count(contig = roi[0][0], start = roi[0][1], end = roi[0][2]), \"read alignments\")\n",
    "\n",
    "    # Extract from documentation:\n",
    "    # Note that region strings are 1-based, while start and end denote an interval in python coordinates. The region is specified by reference, start and end.\n",
    "    # Todo: Maybe reduce coordinates by 1?\n",
    "\n",
    "    for read in b.fetch(contig = roi[0][0], start = roi[0][1], end = roi[0][2]):\n",
    "        #print(read.query_name)\n",
    "        if not read.is_supplementary and not read.is_secondary:\n",
    "            reads[str(read.query_name)] = {\n",
    "                'name' : read.query_name, \n",
    "                'reference_id'   : read.reference_id,\n",
    "                'pos'   : read.get_reference_positions(full_length=True),\n",
    "                'seq_query' : read.query_sequence,\n",
    "                'pairs' : read.get_aligned_pairs(),\n",
    "                'strand' : \"-\" if read.is_reverse else \"+\",\n",
    "                'tags' : read.get_tags(),\n",
    "                'query_qualities': read.query_qualities\n",
    "            }\n",
    "    b.close()\n",
    "\n",
    "print(\"Stored\", len(reads), \"unique sequences\")"
   ]
  },
  {
   "attachments": {},
   "cell_type": "markdown",
   "metadata": {},
   "source": [
    "Align all anchors to all reads"
   ]
  },
  {
   "cell_type": "code",
   "execution_count": 8,
   "metadata": {},
   "outputs": [
    {
     "name": "stdout",
     "output_type": "stream",
     "text": [
      "Length of anchor table: 210\n"
     ]
    }
   ],
   "source": [
    "anchor_alignments = {}\n",
    "for read in reads:\n",
    "    seq = reads[read]['seq_query']\n",
    "    anchor_alignments[read] = {}\n",
    "    for anchor in pysam.FastxFile(fasta_anchors):\n",
    "        aln = edlib.align(anchor.sequence, seq, task=\"path\", mode=\"HW\")\n",
    "        anchor_alignments[read][anchor.name] = aln\n",
    "\n",
    "print(\"Length of anchor table:\", len(anchor_alignments))"
   ]
  },
  {
   "attachments": {},
   "cell_type": "markdown",
   "metadata": {},
   "source": [
    "Reads that match more then one anchor sequence span multiple anchors. To get the correct start position we need to chose the correct anchor sequence as follows: \n",
    " - Take  the anchor with _lowest_ coordinates when on the forward strand\n",
    " - Select the anchor with _highest_ coordinates when on the reverse strand\n",
    "\n",
    "In order to get correct coordinates: \n",
    "\n",
    "1) First align anchors to ref genome\n",
    "2) Extract coordinates\n",
    "3) Sort anchors matches ascending start\n",
    "4) Sort anchors matches by descending end"
   ]
  },
  {
   "cell_type": "code",
   "execution_count": 9,
   "metadata": {},
   "outputs": [
    {
     "name": "stdout",
     "output_type": "stream",
     "text": [
      "{'anchor_BL-715': {'start': 322, 'end': 356}, 'anchor_CHOP_267': {'start': 151726, 'end': 151749}, 'anchor_IDT_855': {'start': 152305, 'end': 152335}, 'anchor_CSPO_586': {'start': 189, 'end': 217}}\n",
      "['anchor_CSPO_586', 'anchor_BL-715', 'anchor_CHOP_267', 'anchor_IDT_855']\n",
      "['anchor_IDT_855', 'anchor_CHOP_267', 'anchor_BL-715', 'anchor_CSPO_586']\n"
     ]
    }
   ],
   "source": [
    "anchors = {}\n",
    "for anchor in pysam.FastxFile(fasta_anchors):\n",
    "    \n",
    "    aln = edlib.align(anchor.sequence, seq_ref, task = \"path\", mode = \"HW\")\n",
    "    if  aln['editDistance'] > 0:\n",
    "        print(\"WARNING: no perfect match for \", anchor.name) \n",
    "        print(\"Best anchor match:\", aln)\n",
    "\n",
    "    anchors[anchor.name] = {\n",
    "        'start': aln['locations'][0][0],\n",
    "        'end' : aln['locations'][0][1] \n",
    "        }\n",
    "\n",
    "print(anchors)\n",
    "\n",
    "anchors_sorted_forward = [x[0] for x in sorted(anchors.items(), key=lambda x:x[1]['start'])]\n",
    "anchors_sorted_reverse = [x[0] for x in sorted(anchors.items(), key=lambda x:x[1]['end'], reverse=True)]\n",
    "\n",
    "print(anchors_sorted_forward)\n",
    "print(anchors_sorted_reverse)"
   ]
  },
  {
   "cell_type": "code",
   "execution_count": 10,
   "metadata": {},
   "outputs": [
    {
     "name": "stdout",
     "output_type": "stream",
     "text": [
      "{'19416d1f-ec13-4df3-abd8-286d59d69608': 'anchor_CSPO_586', '34ba8608-ae6c-449f-a35f-961363a0e30c': 'anchor_CSPO_586', '9c8ca0b0-58c5-4657-a3c9-9104bc8351aa': 'anchor_CSPO_586', '5ad3eb0e-c306-4165-884c-d8d4426e2922': 'anchor_CSPO_586', '52d5734d-8d28-4b11-8278-2518c9b36270': 'anchor_CSPO_586', '76a1534d-b89f-4193-9a37-6cb90b1cd73a': 'anchor_CSPO_586', 'ceca5f16-d7a8-4225-bc37-4f4e0b2dd93a': 'anchor_CSPO_586', 'e25ed20e-ef5e-4695-b3ad-e0cfbfb18242': 'anchor_BL-715', '0d403ca4-a93a-485c-ad0c-3388b32083b8': 'anchor_BL-715', 'd670476f-50ab-41d8-91e1-3eb8e61fc2de': 'anchor_BL-715', '6e5fc2eb-e3f8-4069-830c-1fc7bb8fa47a': 'anchor_BL-715', '7a303258-175a-41eb-b8d0-1a0c5a64c811': 'anchor_BL-715', '358b1642-9e17-46a1-95cf-f7d76b9f4664': 'anchor_CSPO_586', '7b1fc3f7-522a-439b-8b3b-976cbca10973': 'anchor_IDT_855', 'bb3389bf-41ff-4b68-8c4a-9b35db6474b3': 'anchor_BL-715', '0d4c1b99-4bde-464f-8f61-5aba64c13d67': 'anchor_IDT_855', '474dcfd8-c171-4f02-8b75-57971f461b52': 'anchor_CHOP_267', '968826be-d15f-4a55-96ef-7aee41753cbc': 'anchor_CHOP_267', 'd3992057-8b17-4263-a14d-ab177242275e': 'anchor_CSPO_586', '96681e4d-8c54-4f2c-9e97-f52975a375d8': 'anchor_CHOP_267', 'd643ea0c-a04e-4af6-a01c-db1b6aae53d6': 'anchor_IDT_855', '5ddd6cc0-c56e-42ef-ad57-040ff3628a56': 'anchor_CHOP_267', '3cf92be7-690a-4d56-be1a-c7d226ef543f': 'anchor_CHOP_267', '575af0ac-e34e-4b22-824d-0a5455e55903': 'anchor_IDT_855', '90ee7b0b-1955-4ffd-8d66-a82c187f3819': 'anchor_CSPO_586', '2b70dc24-fc27-4ade-bde1-2e52aa0e9c23': 'anchor_CSPO_586', '2b2b2df2-61d4-4ec9-9c64-8c6da1f66c3b': 'anchor_CSPO_586', 'c1d3b0b0-1bae-4cdb-8ac6-284eb1710eaf': 'anchor_CSPO_586', '09b0578e-2582-4d13-8d7e-8288334fba56': 'anchor_BL-715', '28521446-6d7c-4457-a295-5c7bb3aea37e': 'anchor_BL-715', '5c185bf7-5f42-48fc-a032-ae6ce66a941c': 'anchor_BL-715', '6024ba79-2df6-4fe2-8695-d6bf26c1f7af': 'anchor_CSPO_586', 'cedae15c-137c-4c03-bbc5-4a7a6cf0b148': 'anchor_CSPO_586', '3b5afde7-99e1-4837-8e6a-8379f873afdd': 'anchor_CHOP_267', '70b782db-09c0-47dc-be72-e478a3545032': 'anchor_CHOP_267', 'c78a6b94-7586-47db-85e0-3463ba1ff936': 'anchor_CHOP_267', '2db0e38f-202c-45ec-bb1f-ab4384c6137d': 'anchor_CHOP_267', 'f8bbdd11-9bd8-483e-ac9f-b3c62154f7b0': 'anchor_CHOP_267', '1e741e4a-b2ef-4b4d-ac4a-6b1295f18ea1': 'anchor_IDT_855', '336c04d5-e5db-47a3-b69b-fe0acbe6aa16': 'anchor_IDT_855', '5e9234f1-8c6f-47fa-9ac1-21de0535396a': 'anchor_IDT_855', 'b3b90f7e-77b7-48c5-a19f-21cf8a899a34': 'anchor_CHOP_267', 'a340433a-1f85-4b09-af56-e2386e5340dd': 'anchor_CHOP_267', 'ad08bb41-c3d3-4ce9-8d94-9c3dea690082': 'anchor_IDT_855', '0af729d6-49ae-439d-9249-4e742135b503': 'anchor_IDT_855', '5c17b772-13ac-499f-a818-9bf0d6a09c94': 'anchor_IDT_855', '771099a0-6436-4723-b2e7-d7a24c2c681d': 'anchor_IDT_855', 'b402c05e-79d9-4206-8061-b7da39123023': 'anchor_IDT_855', '831d6f70-9bab-45a6-93c6-fa32b5b29335': 'anchor_IDT_855', '2c28252f-5155-43d0-9f36-6532b7c256cc': 'anchor_CSPO_586', 'a016597b-e782-4cea-bf60-a0642c9178f3': 'anchor_CSPO_586', 'a33befdb-842a-444e-93a1-3b45b9f1fad5': 'anchor_CSPO_586', 'ad78d953-0fb5-4faf-979d-4afe0935a43a': 'anchor_CSPO_586', '90ef129f-51a4-472e-886e-a36a7a65aeed': 'anchor_CSPO_586', '1e3e71a9-297f-4c80-9312-5a21d643def7': 'anchor_CSPO_586', '2fffc013-9320-446c-8597-d807f642fd24': 'anchor_CSPO_586', 'ad4a2958-2185-49f4-8c61-5c8275a2e827': 'anchor_CSPO_586', '29422624-886e-484c-9ac0-22c99df2d176': 'anchor_CSPO_586', 'a14ed15b-13c9-4bc7-b75e-af70eefea4d5': 'anchor_CSPO_586', 'eb89831e-e29b-43de-be56-6035fd33e48e': 'anchor_CSPO_586', '7a49d01b-066c-4c73-bf78-4796501bc46b': 'anchor_CSPO_586', 'a9e2c72e-68be-4dff-9a2a-1757f630aea6': 'anchor_CSPO_586', '41bcd08f-4ae5-4581-b969-2ef8a4fe69b7': 'anchor_CSPO_586', 'ed251a40-838d-491f-b6c7-197fcb5ccd36': 'anchor_CSPO_586', '2116532c-5e92-41ec-a770-766a756a4257': 'anchor_CSPO_586', 'd7cb37e0-1ef0-4e19-a739-95fd0ca2ccb5': 'anchor_CSPO_586', '8a64d7d2-c3e9-4884-9082-81b2094c2834': 'anchor_CSPO_586', 'dc72fcac-c658-4490-b309-4b3d3d5ffdab': 'anchor_CSPO_586', '7c8b0f69-da8d-4e0c-8158-b44ba2aaf76a': 'anchor_CSPO_586', 'e02c2acb-89c7-401d-8fbd-9e25bb3c0275': 'anchor_CSPO_586', 'ca904736-f5a5-4c3e-87e7-0c91223dd522': 'anchor_BL-715', '24eb58d5-8606-416a-8055-824817810f05': 'anchor_BL-715', '954844f2-7e38-472c-b7f9-3caf6ad6d62c': 'anchor_BL-715', 'd7691b48-fc36-42c1-9277-79d07e3b1f21': 'anchor_BL-715', '55b56c5e-e78f-4aed-a653-34c22b251d66': 'anchor_BL-715', 'c01109e5-aef0-49a5-825c-bdeeaf2cda85': 'anchor_BL-715', 'ad65b079-4eb8-45e3-9679-e5712cc7d9cb': 'anchor_BL-715', 'c69f53be-0a6d-49ef-8d41-513f660af085': 'anchor_BL-715', 'e0b2698f-5968-4f36-b97f-ee726235bc1c': 'anchor_BL-715', '30fceddb-c645-47fb-8a3c-06e088ea26be': 'anchor_CHOP_267', 'b68c9159-bbbc-49da-b50e-64a72fe8f907': 'anchor_BL-715', '9bd68884-ab3a-4fa2-b320-3feef4dc0dd6': 'anchor_IDT_855', '6db2cfe2-de6a-4e56-bed9-83d9c287263a': 'anchor_BL-715', '4bcb6cb3-a574-4806-944f-dbbcbdef9666': 'anchor_IDT_855', 'd9ed467a-539d-47b6-b766-b20504d2bb91': 'anchor_CHOP_267', '302e8a1a-0c4f-4705-9295-1830e67dae95': 'anchor_IDT_855', 'c27a5b4a-9c9a-4963-9ff2-edd5465f5032': 'anchor_IDT_855', 'e093a7c4-5be6-4de8-979b-e7e54884eb63': 'anchor_CSPO_586', 'f700504e-7315-4ca5-b095-85946e56baf8': 'anchor_BL-715', '077d2306-1d5f-4cb9-90af-5a053d11a908': 'anchor_BL-715', '2ce8c32d-adb5-41d3-9e75-f41e08a9347b': 'anchor_CSPO_586', '572c5379-5cfd-452f-85e2-f8ba9b291c23': 'anchor_CSPO_586', 'bb095ebd-96f3-403f-a9db-87d6b3c201f1': 'anchor_CHOP_267', '99336c8b-19c8-40b2-9a0f-27643461e1b2': 'anchor_CSPO_586', '439c467c-2402-45cb-8701-d4575fc0c6dd': 'anchor_IDT_855', '21442e81-0997-4ed2-b3b3-4ac66ab515e9': 'anchor_CHOP_267', '28d868f6-8ded-48d8-8a5d-e7f2d4e28af7': 'anchor_CHOP_267', '6e9af004-a4ad-4899-9db7-c3cac8cb0c36': 'anchor_IDT_855', 'da707d9c-2f13-4bf0-8349-be45eb72a2bb': 'anchor_IDT_855', 'bd72ff72-dd2a-4b5f-9e62-6cfe634fd071': 'anchor_CHOP_267', '8c4fd3c4-6bc9-4c6f-8e44-7c7dd6fd297f': 'anchor_IDT_855', '6c844c28-cb11-4edc-9341-991c00d5c06b': 'anchor_IDT_855', 'c78885a1-dba8-4c17-bf4f-d66d4489cf64': 'anchor_IDT_855', '4d462b3d-db58-4a4c-ab6e-ddfd7d50a5b5': 'anchor_IDT_855', '67e83f2b-04d3-4ab7-a3c1-b98e4d009290': 'anchor_IDT_855', '8fe828f9-b96a-4ba9-8271-ede5e6895880': 'anchor_CHOP_267', 'aa177069-2ec0-4dcb-a029-5c70c585e3aa': 'anchor_IDT_855', '2e2f1b46-8492-475c-9d37-d3f72a5a998f': 'anchor_IDT_855', 'fd3ef55c-4e44-4f04-a1a2-4a0e360f9897': 'anchor_CHOP_267', '79fdc519-ae22-4df8-9c78-28b70be47969': 'anchor_CHOP_267', '4f0b6f48-c0e7-4921-92e1-512e0e0219a8': 'anchor_IDT_855', 'eb8396cc-7944-4266-a109-c941b4539bf5': 'anchor_IDT_855', 'a989c1d1-db4f-43a9-a450-552fd315219d': 'anchor_IDT_855', '27902746-64ff-4aa4-ae36-6d262255888c': 'anchor_IDT_855', 'b753d2cd-aae8-4ceb-9ad5-a8ac3e3eec56': 'anchor_CHOP_267', 'f16b5b2a-1645-49fb-9b1a-2f45c9a8fad7': 'anchor_CHOP_267', 'e34ac712-94f9-41ef-8e32-d1d2d04d543e': 'anchor_CHOP_267', '5a50fb73-7e7b-46b0-8171-dbea13c93725': 'anchor_IDT_855', '990cc8a8-d998-4312-9547-8dcd2743ee4d': 'anchor_CHOP_267', '4955af25-a08f-4588-bb39-fc65f56476ca': 'anchor_IDT_855', '5e0387cf-9cd8-4de4-9922-7a552f1ae049': 'anchor_IDT_855', '92b3efd4-bff8-4d28-a830-f6e8e26e7c10': 'anchor_CHOP_267', '0bf7eea4-0f51-4a72-9858-1a9e8c28c082': 'anchor_IDT_855', 'f4ea55ec-d63b-4773-ba14-b9c529d73758': 'anchor_CHOP_267', '81334c8f-97ce-4b2b-8d98-28f57e61be9b': 'anchor_CHOP_267', 'd73de31c-4d9a-4a68-8fe8-70547d742cb3': 'anchor_CHOP_267', 'c404b552-5c07-486f-87b2-a451fd07c459': 'anchor_IDT_855', '90516995-4350-4355-9cb2-16a20abcc8a5': 'anchor_IDT_855', '0d64eb56-3d0b-41dc-b145-9aa64166b1d6': 'anchor_IDT_855', '5ad28031-c20f-4229-b9aa-53905b06aa5c': 'anchor_CHOP_267', '4c9e25b1-3735-477b-88da-a521629d5f6a': 'anchor_CHOP_267', '053a3aa5-3e00-4f4d-98d5-5ccc71b0078f': 'anchor_IDT_855', '3a303956-dc87-4a26-a084-c2c25bff9bc5': 'anchor_IDT_855', 'b063fbc6-d056-4b49-addc-b9b6579f67d8': 'anchor_CHOP_267', '7d6901e3-5cd4-441d-8086-2c3408b0380b': 'anchor_IDT_855', 'a84d4d84-eb35-48ac-adae-e73cdcf26e92': 'anchor_CHOP_267', '8957fe0a-e28d-4a53-b9d3-8e25848a548e': 'anchor_IDT_855', '263abeda-d0e6-4bc7-97d0-97aaeb4c55d8': 'anchor_IDT_855', 'f3085afe-036f-40c1-ae7a-db19825d8141': 'anchor_IDT_855', '3962ce13-eae8-4c3b-95dd-bf7e468572e9': 'anchor_IDT_855'}\n",
      "Counter({'19416d1f-ec13-4df3-abd8-286d59d69608': 1, '34ba8608-ae6c-449f-a35f-961363a0e30c': 1, '9c8ca0b0-58c5-4657-a3c9-9104bc8351aa': 1, '5ad3eb0e-c306-4165-884c-d8d4426e2922': 1, '52d5734d-8d28-4b11-8278-2518c9b36270': 1, '76a1534d-b89f-4193-9a37-6cb90b1cd73a': 1, 'ceca5f16-d7a8-4225-bc37-4f4e0b2dd93a': 1, 'e25ed20e-ef5e-4695-b3ad-e0cfbfb18242': 1, '0d403ca4-a93a-485c-ad0c-3388b32083b8': 1, 'd670476f-50ab-41d8-91e1-3eb8e61fc2de': 1, '6e5fc2eb-e3f8-4069-830c-1fc7bb8fa47a': 1, '7a303258-175a-41eb-b8d0-1a0c5a64c811': 1, '358b1642-9e17-46a1-95cf-f7d76b9f4664': 1, '7b1fc3f7-522a-439b-8b3b-976cbca10973': 1, 'bb3389bf-41ff-4b68-8c4a-9b35db6474b3': 1, '0d4c1b99-4bde-464f-8f61-5aba64c13d67': 1, '474dcfd8-c171-4f02-8b75-57971f461b52': 1, '968826be-d15f-4a55-96ef-7aee41753cbc': 1, 'd3992057-8b17-4263-a14d-ab177242275e': 1, '96681e4d-8c54-4f2c-9e97-f52975a375d8': 1, 'd643ea0c-a04e-4af6-a01c-db1b6aae53d6': 1, '5ddd6cc0-c56e-42ef-ad57-040ff3628a56': 1, '3cf92be7-690a-4d56-be1a-c7d226ef543f': 1, '575af0ac-e34e-4b22-824d-0a5455e55903': 1, '90ee7b0b-1955-4ffd-8d66-a82c187f3819': 1, '2b70dc24-fc27-4ade-bde1-2e52aa0e9c23': 1, '2b2b2df2-61d4-4ec9-9c64-8c6da1f66c3b': 1, 'c1d3b0b0-1bae-4cdb-8ac6-284eb1710eaf': 1, '09b0578e-2582-4d13-8d7e-8288334fba56': 1, '28521446-6d7c-4457-a295-5c7bb3aea37e': 1, '5c185bf7-5f42-48fc-a032-ae6ce66a941c': 1, '6024ba79-2df6-4fe2-8695-d6bf26c1f7af': 1, 'cedae15c-137c-4c03-bbc5-4a7a6cf0b148': 1, '3b5afde7-99e1-4837-8e6a-8379f873afdd': 1, '70b782db-09c0-47dc-be72-e478a3545032': 1, 'c78a6b94-7586-47db-85e0-3463ba1ff936': 1, '2db0e38f-202c-45ec-bb1f-ab4384c6137d': 1, 'f8bbdd11-9bd8-483e-ac9f-b3c62154f7b0': 1, '1e741e4a-b2ef-4b4d-ac4a-6b1295f18ea1': 1, '336c04d5-e5db-47a3-b69b-fe0acbe6aa16': 1, '5e9234f1-8c6f-47fa-9ac1-21de0535396a': 1, 'b3b90f7e-77b7-48c5-a19f-21cf8a899a34': 1, 'a340433a-1f85-4b09-af56-e2386e5340dd': 1, 'ad08bb41-c3d3-4ce9-8d94-9c3dea690082': 1, '0af729d6-49ae-439d-9249-4e742135b503': 1, '5c17b772-13ac-499f-a818-9bf0d6a09c94': 1, '771099a0-6436-4723-b2e7-d7a24c2c681d': 1, 'b402c05e-79d9-4206-8061-b7da39123023': 1, '831d6f70-9bab-45a6-93c6-fa32b5b29335': 1, '2c28252f-5155-43d0-9f36-6532b7c256cc': 1, 'a016597b-e782-4cea-bf60-a0642c9178f3': 1, 'a33befdb-842a-444e-93a1-3b45b9f1fad5': 1, 'ad78d953-0fb5-4faf-979d-4afe0935a43a': 1, '90ef129f-51a4-472e-886e-a36a7a65aeed': 1, '1e3e71a9-297f-4c80-9312-5a21d643def7': 1, '2fffc013-9320-446c-8597-d807f642fd24': 1, 'ad4a2958-2185-49f4-8c61-5c8275a2e827': 1, '29422624-886e-484c-9ac0-22c99df2d176': 1, 'a14ed15b-13c9-4bc7-b75e-af70eefea4d5': 1, 'eb89831e-e29b-43de-be56-6035fd33e48e': 1, '7a49d01b-066c-4c73-bf78-4796501bc46b': 1, 'a9e2c72e-68be-4dff-9a2a-1757f630aea6': 1, '41bcd08f-4ae5-4581-b969-2ef8a4fe69b7': 1, 'ed251a40-838d-491f-b6c7-197fcb5ccd36': 1, '2116532c-5e92-41ec-a770-766a756a4257': 1, 'd7cb37e0-1ef0-4e19-a739-95fd0ca2ccb5': 1, '8a64d7d2-c3e9-4884-9082-81b2094c2834': 1, 'dc72fcac-c658-4490-b309-4b3d3d5ffdab': 1, '7c8b0f69-da8d-4e0c-8158-b44ba2aaf76a': 1, 'e02c2acb-89c7-401d-8fbd-9e25bb3c0275': 1, 'ca904736-f5a5-4c3e-87e7-0c91223dd522': 1, '24eb58d5-8606-416a-8055-824817810f05': 1, '954844f2-7e38-472c-b7f9-3caf6ad6d62c': 1, 'd7691b48-fc36-42c1-9277-79d07e3b1f21': 1, '55b56c5e-e78f-4aed-a653-34c22b251d66': 1, 'c01109e5-aef0-49a5-825c-bdeeaf2cda85': 1, 'ad65b079-4eb8-45e3-9679-e5712cc7d9cb': 1, 'c69f53be-0a6d-49ef-8d41-513f660af085': 1, 'e0b2698f-5968-4f36-b97f-ee726235bc1c': 1, '30fceddb-c645-47fb-8a3c-06e088ea26be': 1, 'b68c9159-bbbc-49da-b50e-64a72fe8f907': 1, '9bd68884-ab3a-4fa2-b320-3feef4dc0dd6': 1, '6db2cfe2-de6a-4e56-bed9-83d9c287263a': 1, '4bcb6cb3-a574-4806-944f-dbbcbdef9666': 1, 'd9ed467a-539d-47b6-b766-b20504d2bb91': 1, '302e8a1a-0c4f-4705-9295-1830e67dae95': 1, 'c27a5b4a-9c9a-4963-9ff2-edd5465f5032': 1, 'e093a7c4-5be6-4de8-979b-e7e54884eb63': 1, 'f700504e-7315-4ca5-b095-85946e56baf8': 1, '077d2306-1d5f-4cb9-90af-5a053d11a908': 1, '2ce8c32d-adb5-41d3-9e75-f41e08a9347b': 1, '572c5379-5cfd-452f-85e2-f8ba9b291c23': 1, 'bb095ebd-96f3-403f-a9db-87d6b3c201f1': 1, '99336c8b-19c8-40b2-9a0f-27643461e1b2': 1, '439c467c-2402-45cb-8701-d4575fc0c6dd': 1, '21442e81-0997-4ed2-b3b3-4ac66ab515e9': 1, '28d868f6-8ded-48d8-8a5d-e7f2d4e28af7': 1, '6e9af004-a4ad-4899-9db7-c3cac8cb0c36': 1, 'da707d9c-2f13-4bf0-8349-be45eb72a2bb': 1, 'bd72ff72-dd2a-4b5f-9e62-6cfe634fd071': 1, '8c4fd3c4-6bc9-4c6f-8e44-7c7dd6fd297f': 1, '6c844c28-cb11-4edc-9341-991c00d5c06b': 1, 'c78885a1-dba8-4c17-bf4f-d66d4489cf64': 1, '4d462b3d-db58-4a4c-ab6e-ddfd7d50a5b5': 1, '67e83f2b-04d3-4ab7-a3c1-b98e4d009290': 1, '8fe828f9-b96a-4ba9-8271-ede5e6895880': 1, 'aa177069-2ec0-4dcb-a029-5c70c585e3aa': 1, '2e2f1b46-8492-475c-9d37-d3f72a5a998f': 1, 'fd3ef55c-4e44-4f04-a1a2-4a0e360f9897': 1, '79fdc519-ae22-4df8-9c78-28b70be47969': 1, '4f0b6f48-c0e7-4921-92e1-512e0e0219a8': 1, 'eb8396cc-7944-4266-a109-c941b4539bf5': 1, 'a989c1d1-db4f-43a9-a450-552fd315219d': 1, '27902746-64ff-4aa4-ae36-6d262255888c': 1, 'b753d2cd-aae8-4ceb-9ad5-a8ac3e3eec56': 1, 'f16b5b2a-1645-49fb-9b1a-2f45c9a8fad7': 1, 'e34ac712-94f9-41ef-8e32-d1d2d04d543e': 1, '5a50fb73-7e7b-46b0-8171-dbea13c93725': 1, '990cc8a8-d998-4312-9547-8dcd2743ee4d': 1, '4955af25-a08f-4588-bb39-fc65f56476ca': 1, '5e0387cf-9cd8-4de4-9922-7a552f1ae049': 1, '92b3efd4-bff8-4d28-a830-f6e8e26e7c10': 1, '0bf7eea4-0f51-4a72-9858-1a9e8c28c082': 1, 'f4ea55ec-d63b-4773-ba14-b9c529d73758': 1, '81334c8f-97ce-4b2b-8d98-28f57e61be9b': 1, 'd73de31c-4d9a-4a68-8fe8-70547d742cb3': 1, 'c404b552-5c07-486f-87b2-a451fd07c459': 1, '90516995-4350-4355-9cb2-16a20abcc8a5': 1, '0d64eb56-3d0b-41dc-b145-9aa64166b1d6': 1, '5ad28031-c20f-4229-b9aa-53905b06aa5c': 1, '4c9e25b1-3735-477b-88da-a521629d5f6a': 1, '053a3aa5-3e00-4f4d-98d5-5ccc71b0078f': 1, '3a303956-dc87-4a26-a084-c2c25bff9bc5': 1, 'b063fbc6-d056-4b49-addc-b9b6579f67d8': 1, '7d6901e3-5cd4-441d-8086-2c3408b0380b': 1, 'a84d4d84-eb35-48ac-adae-e73cdcf26e92': 1, '8957fe0a-e28d-4a53-b9d3-8e25848a548e': 1, '263abeda-d0e6-4bc7-97d0-97aaeb4c55d8': 1, 'f3085afe-036f-40c1-ae7a-db19825d8141': 1, '3962ce13-eae8-4c3b-95dd-bf7e468572e9': 1})\n",
      "Counter({'anchor_IDT_855': 45, 'anchor_CSPO_586': 40, 'anchor_CHOP_267': 33, 'anchor_BL-715': 22})\n"
     ]
    }
   ],
   "source": [
    "DISTANCE_THRESHOLD= 5\n",
    "unique_anchor_alignments = {}\n",
    "\n",
    "for read in anchor_alignments:\n",
    "    lowest_anchor_index = 1e5  # Large number\n",
    "    for anchor in anchor_alignments[read]:\n",
    "        if anchor_alignments[read][anchor]['editDistance'] < DISTANCE_THRESHOLD:\n",
    "            \n",
    "            if reads[read]['strand'] == \"+\":\n",
    "                anchor_index = anchors_sorted_forward.index(anchor)\n",
    "            else :\n",
    "                anchor_index = anchors_sorted_reverse.index(anchor)            \n",
    "            if anchor_index < lowest_anchor_index:\n",
    "                unique_anchor_alignments[read] = anchor\n",
    "\n",
    "print(unique_anchor_alignments)\n",
    "print(Counter(unique_anchor_alignments.keys()))\n",
    "print(Counter(unique_anchor_alignments.values()))"
   ]
  },
  {
   "attachments": {},
   "cell_type": "markdown",
   "metadata": {},
   "source": [
    "Align reads with anchor:\n",
    "\n",
    "1) Extract positions after/before unique anchor based on strand\n",
    "2) Prefix alignment of read (with anchor) to the ref sequence. Create reverse sequence for reads on \"-\" strand\n",
    "3) Store seq, cigar, positions, strand, subset of read quals in library"
   ]
  },
  {
   "cell_type": "code",
   "execution_count": 12,
   "metadata": {},
   "outputs": [],
   "source": [
    "reads_aligned = {}\n",
    "\n",
    "def rev_comp(str):\n",
    "    return\n",
    "\n",
    "for read, anchor in unique_anchor_alignments.items():\n",
    "    if reads[read]['strand'] == \"+\":\n",
    "        seq_from_anchor = reads[read]['seq_query'][anchor_alignments[read][anchor]['locations'][0][0]:]\n",
    "        qual_from_anchor = reads[read]['query_qualities'][anchor_alignments[read][anchor]['locations'][0][0]:]\n",
    "        ref_from_anchor = seq_ref[anchors[anchor]['start']:]\n",
    "    else:\n",
    "        seq_from_anchor = reads[read]['seq_query'][:anchor_alignments[read][anchor]['locations'][0][1]][::-1]\n",
    "        qual_from_anchor = reads[read]['query_qualities'][:anchor_alignments[read][anchor]['locations'][0][1]][::-1]\n",
    "        ref_from_anchor = seq_ref[:anchors[anchor]['end']][::-1]\n",
    "    \n",
    "    aln = edlib.align(seq_from_anchor, ref_from_anchor, task = \"path\", mode = \"SHW\")\n",
    "    aln_nice = edlib.getNiceAlignment(aln, seq_from_anchor, ref_from_anchor)\n",
    "    ref_length = len(aln_nice['target_aligned'].replace('-', ''))\n",
    "\n",
    "    reads_aligned[read] = {\n",
    "        'strand' : reads[read]['strand'],\n",
    "        'aln' : aln,\n",
    "        'seq' : seq_from_anchor,\n",
    "        'ref_length' : ref_length,\n",
    "        'query_qualities' : qual_from_anchor,\n",
    "    }"
   ]
  },
  {
   "cell_type": "code",
   "execution_count": 13,
   "metadata": {},
   "outputs": [
    {
     "name": "stdout",
     "output_type": "stream",
     "text": [
      "\n"
     ]
    },
    {
     "data": {
      "image/png": "[encoded data removed]",
      "text/plain": [
       "<Figure size 640x480 with 1 Axes>"
      ]
     },
     "metadata": {},
     "output_type": "display_data"
    }
   ],
   "source": [
    "import matplotlib.pyplot as plt\n",
    "\n",
    "edit_distances = []\n",
    "matched_query_lengths = []\n",
    "\n",
    "for read in reads_aligned:\n",
    "    edit_distances.append(reads_aligned[read]['aln']['editDistance'])\n",
    "    matched_query_lengths.append(len(reads_aligned[read]['seq']))\n",
    "print()\n",
    "\n",
    "\n",
    "plt.scatter(matched_query_lengths, edit_distances, edgecolors='black')\n",
    "plt.xlabel(\"Aligned read length (bp)\")\n",
    "plt.ylabel(\"Edit distance to reference genome\")\n",
    "plt.show()"
   ]
  },
  {
   "attachments": {},
   "cell_type": "markdown",
   "metadata": {},
   "source": [
    "Alignment looks ok, lets try to create a BAMfile as output"
   ]
  },
  {
   "cell_type": "code",
   "execution_count": 16,
   "metadata": {},
   "outputs": [],
   "source": [
    "def reverse_cigar(cigarstring): \n",
    "    cigar_instructions = []\n",
    "    n = \"\"\n",
    "\n",
    "    for c in cigarstring:\n",
    "        if c.isnumeric():\n",
    "            n += c\n",
    "        else:\n",
    "            cigar_instructions.append(n +c)\n",
    "            n = \"\"\n",
    "\n",
    "    return \"\".join(cigar_instructions[::-1])\n"
   ]
  },
  {
   "cell_type": "code",
   "execution_count": 17,
   "metadata": {},
   "outputs": [],
   "source": [
    "b = pysam.AlignmentFile(bam, \"rb\")\n",
    "\n",
    "with pysam.AlignmentFile(outbam, \"wb\", template = b) as outf:\n",
    "    for read in reads_aligned:\n",
    "\n",
    "        if reads_aligned[read]['strand'] == \"+\" :\n",
    "            ref_start =  roi[0][1] + anchors[unique_anchor_alignments[read]]['start']\n",
    "            cigarstring = reads_aligned[read]['aln']['cigar']\n",
    "            query_sequence = reads_aligned[read]['seq']\n",
    "        else:\n",
    "            ref_start = roi[0][1] + anchors[unique_anchor_alignments[read]]['end'] - reads_aligned[read]['ref_length']\n",
    "            cigarstring = reverse_cigar(reads_aligned[read]['aln']['cigar'])\n",
    "            query_sequence = reads_aligned[read]['seq'][::-1]\n",
    "        a = pysam.AlignedSegment()\n",
    "        a.query_name = read\n",
    "        a.query_sequence = query_sequence\n",
    "        a.flag = 0 if reads_aligned[read]['strand'] == \"+\" else 16\n",
    "        a.reference_id = reads[read]['reference_id']\n",
    "        a.reference_start = ref_start\n",
    "        a.mapping_quality = 30 #Could be adjusted by edit distance ranges\n",
    "        a.cigarstring = cigarstring\n",
    "        a.query_qualities = reads_aligned[read]['query_qualities']\n",
    "        a.tags = reads[read]['tags']\n",
    "\n",
    "        outf.write(a)\n",
    "\n",
    "b.close()"
   ]
  },
  {
   "cell_type": "code",
   "execution_count": 18,
   "metadata": {},
   "outputs": [
    {
     "data": {
      "text/plain": [
       "''"
      ]
     },
     "execution_count": 18,
     "metadata": {},
     "output_type": "execute_result"
    }
   ],
   "source": [
    "pysam.sort(\"-o\", outbam_sorted, outbam)\n",
    "pysam.index(outbam_sorted)"
   ]
  },
  {
   "cell_type": "code",
   "execution_count": 19,
   "metadata": {},
   "outputs": [],
   "source": [
    "coverages = anchors\n",
    "\n",
    "for anchor in coverages:\n",
    "    coverages[anchor]['cov'] = [0]*(roi[0][2] - roi[0][1])\n",
    "\n",
    "for read in reads_aligned:\n",
    "    \n",
    "    if reads_aligned[read]['strand'] == \"+\" :\n",
    "        start =  coverages[unique_anchor_alignments[read]]['start']\n",
    "        end = start + reads_aligned[read]['ref_length']\n",
    "    else:\n",
    "        end = coverages[unique_anchor_alignments[read]]['end']\n",
    "        start = end - reads_aligned[read]['ref_length']    \n",
    "    \n",
    "    #print(coverages[unique_anchor_alignments[read]]['cov'])\n",
    "    for i,n in enumerate(coverages[unique_anchor_alignments[read]]['cov']):\n",
    "       coverages[unique_anchor_alignments[read]]['cov'][i] = n+1 if start <= i <= end else n\n"
   ]
  },
  {
   "cell_type": "code",
   "execution_count": 20,
   "metadata": {},
   "outputs": [
    {
     "data": {
      "image/png": "[encoded data removed]",
      "text/plain": [
       "<Figure size 640x480 with 1 Axes>"
      ]
     },
     "metadata": {},
     "output_type": "display_data"
    }
   ],
   "source": [
    "x = range(roi[0][1],roi[0][2])\n",
    "\n",
    "values = []\n",
    "labels = []\n",
    "\n",
    "for i, anchor in enumerate(coverages.keys()):\n",
    "    values.append(coverages[anchor]['cov'])\n",
    "    labels.append(anchor)\n",
    "\n",
    "plt.stackplot(x, values, step='pre', labels=labels)\n",
    "plt.legend()\n",
    "plt.show()\n"
   ]
  }
 ],
 "metadata": {
  "kernelspec": {
   "display_name": ".venv",
   "language": "python",
   "name": "python3"
  },
  "language_info": {
   "codemirror_mode": {
    "name": "ipython",
    "version": 3
   },
   "file_extension": ".py",
   "mimetype": "text/x-python",
   "name": "python",
   "nbconvert_exporter": "python",
   "pygments_lexer": "ipython3",
   "version": "3.8.10"
  },
  "orig_nbformat": 4
 },
 "nbformat": 4,
 "nbformat_minor": 2
}
